{
 "cells": [
  {
   "cell_type": "markdown",
   "id": "8fbc2c69",
   "metadata": {},
   "source": [
    "# Case I : Video Streaming Services\n",
    "Pertemuan 13 - 14\n",
    "Python - Sekolah Data - Pacmann Academy"
   ]
  },
  {
   "cell_type": "markdown",
   "id": "cfce9b74",
   "metadata": {},
   "source": [
    "| **Basic Plan**       | **Standard Plan**                                       | **Premium Plan**                                               | **Services**   |\n",
    "|----------------------|---------------------------------------------------------|----------------------------------------------------------------|----------------|\n",
    "| ✓                    | ✓                                                       | ✓                                                              | can_stream     |\n",
    "| ✓                    | ✓                                                       | ✓                                                              | can_download   |\n",
    "| ✓                    | ✓                                                       | ✓                                                              | has_SD         |\n",
    "|                      | ✓                                                       | ✓                                                              | has_HD         |\n",
    "|                      |                                                         | ✓                                                              | has_UHD        |\n",
    "| 1                    | 2                                                       | 4                                                              | num_of_devices |\n",
    "| 3rd party movie only | Basic Plan Content + Sports  (F1, Football, Basketball) | Basic Plan + Standard Plan +  PacFlix Original Series or Movie | content        |\n",
    "| Rp 120.000,-         | Rp 160.000,-                                            | Rp 200.000,-                                                   | price          |"
   ]
  },
  {
   "cell_type": "markdown",
   "id": "e11a6ea8",
   "metadata": {},
   "source": [
    "## Features List yang dibutuhkan\n",
    "- [ ] `check_benefit()` --> tampilkan semua benefit\n",
    "- [ ] `check_plan(username)` --> tampilkan benefit yang didapatkan dan udah langganan berapa lama (done)\n",
    "- [ ] `upgrade_plan(username, current_plan, new_plan)` --> harga final, if langganan > 12 bulan akan dapet diskon 5% \n",
    "- [ ] `pick_plan(new_plan, code_referral)` --> untuk new user, harga final kalo pake kode referral dapet diskon 4% "
   ]
  },
  {
   "cell_type": "code",
   "execution_count": 2,
   "id": "04053a69",
   "metadata": {},
   "outputs": [],
   "source": [
    "# import library\n",
    "from tabulate import tabulate"
   ]
  },
  {
   "cell_type": "code",
   "execution_count": 3,
   "id": "bae3e7a2",
   "metadata": {},
   "outputs": [],
   "source": [
    "# tinggal di run saja\n",
    "data = {\n",
    "    \"Shandy\": [\"Basic Plan\", 12, \"shandy-2134\"],\n",
    "    \"Cahya\": [\"Standard Plan\", 24, \"cahya-abcd\"],\n",
    "    \"Ana\": [\"Premium Plan\", 5, \"ana-2f9g\"],\n",
    "    \"Bagus\": [\"Basic Plan\", 11, \"bagus-9f92\"]\n",
    "}"
   ]
  },
  {
   "cell_type": "code",
   "execution_count": 4,
   "id": "4a3060e2",
   "metadata": {},
   "outputs": [],
   "source": [
    "# isilah titik - titik di bawah ini\n",
    "class User:\n",
    "    \n",
    "    def __init__(self,username,duration_plan,current_plan):\n",
    "        self.username = username\n",
    "        self.duration_plan = duration_plan\n",
    "        self.current_plan = current_plan\n",
    "        \n",
    "    def check_benefit(self):\n",
    "        \n",
    "        header=['Basic Plan','Standart Plan','Premium Plan','Services']\n",
    "        benefit = [\n",
    "                  [True,True,True, 'Bisa Stream'],\n",
    "                 [True,True,True, 'Bisa Download'],\n",
    "                 [True,True,True, 'SD Quality'],\n",
    "                 [False,True,True, 'HD Quality'],\n",
    "                 [False,False,True,'UHD Quality'],\n",
    "                 [1,2,4,'Number of Devices'],\n",
    "            ['3rd Party Movies','Basic plan + Sports','Basic + Standart + PacFlix Original','Content'],\n",
    "            [120_000_000,160_000_000,200_000_000, 'price']\n",
    "                 ]\n",
    "        print('Pacflix Plan List')\n",
    "        print(\"\")\n",
    "        print(tabulate(tabular_data = benefit, headers = header,tablefmt='github'))\n",
    "        \n",
    "    def check_plan(self,username):\n",
    "        for key,value in data.items():\n",
    "\n",
    "            if key == self.username:\n",
    "                print(f'customer current plan: {value[0]}')\n",
    "                print(f'customer duration plan: {value[1]} months')\n",
    "                print('')\n",
    "                try:\n",
    "                    if value[0] == 'Basic Plan':\n",
    "                \n",
    "                        table = [[True,'Bisa Stream'],\n",
    "                                [True,'Bisa Download'],\n",
    "                               [True,'SD Quality'],\n",
    "                               [False,'HD Quality'],\n",
    "                               [False,'UHD Quality'],\n",
    "                               [1,'Number of Devices'],\n",
    "                               ['3rd Party Movies','Content'],\n",
    "                               [120_000_000,'price']]\n",
    "                        header = ['Basic Plan','Sevices']\n",
    "                        print(f\"{value[0]} PacFlix Benefit List\")\n",
    "                        print(tabulate(table,header))\n",
    "                    elif value[0] == \"Standard Plan\":\n",
    "                        table = [[True, \"Bisa Stream\"],\n",
    "                         [True, \"Bisa Download\"],\n",
    "                         [True, \"Kualitas SD\"],\n",
    "                         [True, \"Kualitas HD\"],\n",
    "                         [False, \"Kualitas UHD\"],\n",
    "                         [2, \"Number of Devices\"],\n",
    "                         [\"Basic Plan + Sports (F1, Football, Basketball)\", \"Jenis Konten\"],\n",
    "                         [160_000, \"Harga\"]]\n",
    "\n",
    "                        headers = [\"Standard Plan\", \"Services\"]\n",
    "                        print(f\"{value[0]} PacFlix Benefit List\")\n",
    "                        print(\"\")\n",
    "                        print(tabulate(table, headers))\n",
    "\n",
    "                    elif value[0] == \"Premium Plan\":\n",
    "                        table = [[True, \"Bisa Stream\"],\n",
    "                         [True, \"Bisa Download\"],\n",
    "                         [True, \"Kualitas SD\"],\n",
    "                         [True, \"Kualitas HD\"],\n",
    "                         [True, \"Kualitas UHD\"],\n",
    "                         [4, \"Number of Devices\"],\n",
    "                         [\"Basic Plan + Standard Plan + PacFlix Original Series or Movies\", \"Jenis Konten\"],\n",
    "                         [200_000, \"Harga\"]]\n",
    "\n",
    "                        headers = [\"Premium\", \"Services\"]\n",
    "                        print(f\"{value[0]} PacFlix Benefit List\")\n",
    "                        print(\"\")\n",
    "                        print(tabulate(table, headers))\n",
    "\n",
    "                    else:\n",
    "                        raise Exception(\"Plan didn't exists\")\n",
    "                except:\n",
    "                    raise Exception('Program Error')\n",
    "                    \n",
    "    def upgrade_plan(self,username,current_plan,new_plan):\n",
    "        if new_plan != self.current_plan:\n",
    "            if self.duration_plan > 12:\n",
    "                if new_plan == 'Basic Plan':\n",
    "                    price_discount = 120_000_000 * 0.05\n",
    "                    final_price = 120_000_000 - price_discount\n",
    "                    return final_price\n",
    "                elif new_plan == 'Standart Plan':\n",
    "                    price_discount = 160_000_000 * 0.05\n",
    "                    final_price = 160_000_000 - price_discount\n",
    "                    return final_price\n",
    "                else:\n",
    "                    price_discount = 200_000_000 * 0.05\n",
    "                    final_price = 200_000_000 - price_discount\n",
    "                    return final_price\n",
    "            else:\n",
    "                if new_plan == 'Basic Plan':\n",
    "                    print(120_000_000)\n",
    "\n",
    "                elif new_plan == 'Standart Plan':\n",
    "                    print(160_000_000)\n",
    "\n",
    "                else:\n",
    "                    print(200_000_000)\n",
    "        elif new_plan == self.current_plan:\n",
    "            print(\"Sorry you don't get any discount\")"
   ]
  },
  {
   "cell_type": "markdown",
   "id": "160fc87c",
   "metadata": {},
   "source": [
    "#### Create Object for User Class "
   ]
  },
  {
   "cell_type": "code",
   "execution_count": 5,
   "id": "f97ff480",
   "metadata": {},
   "outputs": [],
   "source": [
    "user_1 = User(\"Shandy\", 12, \"Basic Plan\")"
   ]
  },
  {
   "cell_type": "code",
   "execution_count": 6,
   "id": "9a9b1346",
   "metadata": {},
   "outputs": [
    {
     "name": "stdout",
     "output_type": "stream",
     "text": [
      "customer current plan: Basic Plan\n",
      "customer duration plan: 12 months\n",
      "\n",
      "Basic Plan PacFlix Benefit List\n",
      "Basic Plan        Sevices\n",
      "----------------  -----------------\n",
      "True              Bisa Stream\n",
      "True              Bisa Download\n",
      "True              SD Quality\n",
      "False             HD Quality\n",
      "False             UHD Quality\n",
      "1                 Number of Devices\n",
      "3rd Party Movies  Content\n",
      "120000000         price\n"
     ]
    }
   ],
   "source": [
    "# isi titik - titik di bawah ini\n",
    "user_1.check_plan(username = user_1.username)"
   ]
  },
  {
   "cell_type": "markdown",
   "id": "94c91a9d",
   "metadata": {},
   "source": [
    "### Test Case 1 "
   ]
  },
  {
   "cell_type": "code",
   "execution_count": 7,
   "id": "56027546",
   "metadata": {},
   "outputs": [
    {
     "name": "stdout",
     "output_type": "stream",
     "text": [
      "Pacflix Plan List\n",
      "\n",
      "| Basic Plan       | Standart Plan       | Premium Plan                        | Services          |\n",
      "|------------------|---------------------|-------------------------------------|-------------------|\n",
      "| True             | True                | True                                | Bisa Stream       |\n",
      "| True             | True                | True                                | Bisa Download     |\n",
      "| True             | True                | True                                | SD Quality        |\n",
      "| False            | True                | True                                | HD Quality        |\n",
      "| False            | False               | True                                | UHD Quality       |\n",
      "| 1                | 2                   | 4                                   | Number of Devices |\n",
      "| 3rd Party Movies | Basic plan + Sports | Basic + Standart + PacFlix Original | Content           |\n",
      "| 120000000        | 160000000           | 200000000                           | price             |\n"
     ]
    }
   ],
   "source": [
    "user_1.check_benefit()"
   ]
  },
  {
   "cell_type": "code",
   "execution_count": 8,
   "id": "b3a2b409",
   "metadata": {},
   "outputs": [
    {
     "name": "stdout",
     "output_type": "stream",
     "text": [
      "customer current plan: Basic Plan\n",
      "customer duration plan: 12 months\n",
      "\n",
      "Basic Plan PacFlix Benefit List\n",
      "Basic Plan        Sevices\n",
      "----------------  -----------------\n",
      "True              Bisa Stream\n",
      "True              Bisa Download\n",
      "True              SD Quality\n",
      "False             HD Quality\n",
      "False             UHD Quality\n",
      "1                 Number of Devices\n",
      "3rd Party Movies  Content\n",
      "120000000         price\n"
     ]
    }
   ],
   "source": [
    "user_1.check_plan(username = user_1.username)"
   ]
  },
  {
   "cell_type": "code",
   "execution_count": 9,
   "id": "b249890c",
   "metadata": {},
   "outputs": [
    {
     "name": "stdout",
     "output_type": "stream",
     "text": [
      "160000000\n"
     ]
    }
   ],
   "source": [
    "user_1.upgrade_plan(username = user_1.username,current_plan = user_1.current_plan,new_plan = \"Standart Plan\")"
   ]
  },
  {
   "cell_type": "markdown",
   "id": "ea095b2c",
   "metadata": {},
   "source": [
    "#### Testing with another Object "
   ]
  },
  {
   "cell_type": "code",
   "execution_count": 10,
   "id": "9ee45934",
   "metadata": {},
   "outputs": [],
   "source": [
    "user_2 = User(\"Cahya\", 24, \"Standard Plan\")"
   ]
  },
  {
   "cell_type": "code",
   "execution_count": 11,
   "id": "97d839ae",
   "metadata": {},
   "outputs": [
    {
     "name": "stdout",
     "output_type": "stream",
     "text": [
      "Pacflix Plan List\n",
      "\n",
      "| Basic Plan       | Standart Plan       | Premium Plan                        | Services          |\n",
      "|------------------|---------------------|-------------------------------------|-------------------|\n",
      "| True             | True                | True                                | Bisa Stream       |\n",
      "| True             | True                | True                                | Bisa Download     |\n",
      "| True             | True                | True                                | SD Quality        |\n",
      "| False            | True                | True                                | HD Quality        |\n",
      "| False            | False               | True                                | UHD Quality       |\n",
      "| 1                | 2                   | 4                                   | Number of Devices |\n",
      "| 3rd Party Movies | Basic plan + Sports | Basic + Standart + PacFlix Original | Content           |\n",
      "| 120000000        | 160000000           | 200000000                           | price             |\n"
     ]
    }
   ],
   "source": [
    "user_2.check_benefit()"
   ]
  },
  {
   "cell_type": "code",
   "execution_count": 12,
   "id": "1f5d9f22",
   "metadata": {},
   "outputs": [
    {
     "name": "stdout",
     "output_type": "stream",
     "text": [
      "customer current plan: Standard Plan\n",
      "customer duration plan: 24 months\n",
      "\n",
      "Standard Plan PacFlix Benefit List\n",
      "\n",
      "Standard Plan                                   Services\n",
      "----------------------------------------------  -----------------\n",
      "True                                            Bisa Stream\n",
      "True                                            Bisa Download\n",
      "True                                            Kualitas SD\n",
      "True                                            Kualitas HD\n",
      "False                                           Kualitas UHD\n",
      "2                                               Number of Devices\n",
      "Basic Plan + Sports (F1, Football, Basketball)  Jenis Konten\n",
      "160000                                          Harga\n"
     ]
    }
   ],
   "source": [
    "user_2.check_plan(username=user_2.username)"
   ]
  },
  {
   "cell_type": "code",
   "execution_count": 14,
   "id": "63f32a46",
   "metadata": {},
   "outputs": [
    {
     "data": {
      "text/plain": [
       "190000000.0"
      ]
     },
     "execution_count": 14,
     "metadata": {},
     "output_type": "execute_result"
    }
   ],
   "source": [
    "user_2.upgrade_plan(username = user_2.username,current_plan = user_2.current_plan,new_plan = 'Premium Plan')"
   ]
  },
  {
   "cell_type": "markdown",
   "id": "143d3885",
   "metadata": {},
   "source": [
    "### Create New User Object "
   ]
  },
  {
   "cell_type": "code",
   "execution_count": 15,
   "id": "3fea1967",
   "metadata": {},
   "outputs": [
    {
     "name": "stdout",
     "output_type": "stream",
     "text": [
      "['Basic Plan', 12, 'shandy-2134']\n",
      "['Standard Plan', 24, 'cahya-abcd']\n",
      "['Premium Plan', 5, 'ana-2f9g']\n",
      "['Basic Plan', 11, 'bagus-9f92']\n"
     ]
    }
   ],
   "source": [
    "for key,value in data.items():\n",
    "    print(value)"
   ]
  },
  {
   "cell_type": "code",
   "execution_count": 16,
   "id": "39b6c6ba",
   "metadata": {},
   "outputs": [],
   "source": [
    "class NewUser:\n",
    "    def __init__(self,username):\n",
    "        self.username = username\n",
    "        \n",
    "    def pick_plan (self,new_plan,referral_code):\n",
    "        for key,value in data.items():\n",
    "            if value[2] == referral_code:\n",
    "                if new_plan == 'Basic Plan':\n",
    "                    discount_price = 120_000_000 * 0.04\n",
    "                    final_price = 120_000_000 - discount_price\n",
    "                    return final_price\n",
    "                    \n",
    "                elif new_plan == 'Standart Plan':\n",
    "                    discount_price = 160_000_000 * 0.04\n",
    "                    final_price = 160_000_000 - discount_price\n",
    "                    return final_price\n",
    "                    \n",
    "                elif new_plan == 'Premium Plan':\n",
    "                    discount_price = 200_000_000 * 0.04\n",
    "                    final_price = 200_000_000 - discount_price\n",
    "                    return final_price\n",
    "                else:\n",
    "                    print('Plan doesnt exist')\n",
    "                    \n",
    "            else:\n",
    "                raise Exception('referral code doesn’t exis')"
   ]
  },
  {
   "cell_type": "markdown",
   "id": "1177b786",
   "metadata": {},
   "source": [
    "#### Create Object for NewUser Class"
   ]
  },
  {
   "cell_type": "code",
   "execution_count": 17,
   "id": "d12e4cfd",
   "metadata": {},
   "outputs": [],
   "source": [
    "faizal = NewUser(\"faizal_icikiwir\")"
   ]
  },
  {
   "cell_type": "markdown",
   "id": "bccb640a",
   "metadata": {},
   "source": [
    "### Test Case 4 "
   ]
  },
  {
   "cell_type": "code",
   "execution_count": 18,
   "id": "f7b3fe97",
   "metadata": {},
   "outputs": [
    {
     "data": {
      "text/plain": [
       "115200000.0"
      ]
     },
     "execution_count": 18,
     "metadata": {},
     "output_type": "execute_result"
    }
   ],
   "source": [
    "faizal.pick_plan(\"Basic Plan\", \"shandy-2134\")"
   ]
  },
  {
   "cell_type": "code",
   "execution_count": 19,
   "id": "c18cb0c4",
   "metadata": {},
   "outputs": [
    {
     "ename": "Exception",
     "evalue": "referral code doesn’t exis",
     "output_type": "error",
     "traceback": [
      "\u001b[1;31m---------------------------------------------------------------------------\u001b[0m",
      "\u001b[1;31mException\u001b[0m                                 Traceback (most recent call last)",
      "\u001b[1;32m~\\AppData\\Local\\Temp/ipykernel_24584/1070133267.py\u001b[0m in \u001b[0;36m<module>\u001b[1;34m\u001b[0m\n\u001b[1;32m----> 1\u001b[1;33m \u001b[0mfaizal\u001b[0m\u001b[1;33m.\u001b[0m\u001b[0mpick_plan\u001b[0m\u001b[1;33m(\u001b[0m\u001b[1;34m\"Basic Plan\"\u001b[0m\u001b[1;33m,\u001b[0m \u001b[1;34m\"indira-22gs\"\u001b[0m\u001b[1;33m)\u001b[0m\u001b[1;33m\u001b[0m\u001b[1;33m\u001b[0m\u001b[0m\n\u001b[0m",
      "\u001b[1;32m~\\AppData\\Local\\Temp/ipykernel_24584/3745227048.py\u001b[0m in \u001b[0;36mpick_plan\u001b[1;34m(self, new_plan, referral_code)\u001b[0m\n\u001b[0;32m     24\u001b[0m \u001b[1;33m\u001b[0m\u001b[0m\n\u001b[0;32m     25\u001b[0m             \u001b[1;32melse\u001b[0m\u001b[1;33m:\u001b[0m\u001b[1;33m\u001b[0m\u001b[1;33m\u001b[0m\u001b[0m\n\u001b[1;32m---> 26\u001b[1;33m                 \u001b[1;32mraise\u001b[0m \u001b[0mException\u001b[0m\u001b[1;33m(\u001b[0m\u001b[1;34m'referral code doesn’t exis'\u001b[0m\u001b[1;33m)\u001b[0m\u001b[1;33m\u001b[0m\u001b[1;33m\u001b[0m\u001b[0m\n\u001b[0m",
      "\u001b[1;31mException\u001b[0m: referral code doesn’t exis"
     ]
    }
   ],
   "source": [
    "faizal.pick_plan(\"Basic Plan\", \"indira-22gs\")"
   ]
  },
  {
   "cell_type": "code",
   "execution_count": null,
   "id": "00c2ace0",
   "metadata": {},
   "outputs": [],
   "source": []
  }
 ],
 "metadata": {
  "kernelspec": {
   "display_name": "Python 3 (ipykernel)",
   "language": "python",
   "name": "python3"
  },
  "language_info": {
   "codemirror_mode": {
    "name": "ipython",
    "version": 3
   },
   "file_extension": ".py",
   "mimetype": "text/x-python",
   "name": "python",
   "nbconvert_exporter": "python",
   "pygments_lexer": "ipython3",
   "version": "3.9.7"
  }
 },
 "nbformat": 4,
 "nbformat_minor": 5
}
